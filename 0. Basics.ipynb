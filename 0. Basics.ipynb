{
 "cells": [
  {
   "cell_type": "code",
   "execution_count": 268,
   "metadata": {},
   "outputs": [
    {
     "data": {
      "text/plain": [
       "'UK'"
      ]
     },
     "execution_count": 268,
     "metadata": {},
     "output_type": "execute_result"
    }
   ],
   "source": [
    "# Back to basics again\n",
    "# list slicing\n",
    "countries = ['UK', 'US','France','Spain']\n",
    "\n",
    "countries[-4]"
   ]
  },
  {
   "cell_type": "code",
   "execution_count": 269,
   "metadata": {},
   "outputs": [
    {
     "data": {
      "text/plain": [
       "['UK', 'US', 'France']"
      ]
     },
     "execution_count": 269,
     "metadata": {},
     "output_type": "execute_result"
    }
   ],
   "source": [
    "countries[:3]"
   ]
  },
  {
   "cell_type": "code",
   "execution_count": 270,
   "metadata": {},
   "outputs": [
    {
     "data": {
      "text/plain": [
       "['UK', 'France']"
      ]
     },
     "execution_count": 270,
     "metadata": {},
     "output_type": "execute_result"
    }
   ],
   "source": [
    "countries[::2]"
   ]
  },
  {
   "cell_type": "code",
   "execution_count": 271,
   "metadata": {},
   "outputs": [
    {
     "data": {
      "text/plain": [
       "'Canada'"
      ]
     },
     "execution_count": 271,
     "metadata": {},
     "output_type": "execute_result"
    }
   ],
   "source": [
    "# list adding\n",
    "countries.append('Canada')\n",
    "\n",
    "countries[-1]"
   ]
  },
  {
   "cell_type": "code",
   "execution_count": 272,
   "metadata": {},
   "outputs": [],
   "source": [
    "countries.insert(0, 'Belgium')"
   ]
  },
  {
   "cell_type": "code",
   "execution_count": 273,
   "metadata": {},
   "outputs": [
    {
     "data": {
      "text/plain": [
       "['Belgium', 'UK', 'US', 'France', 'Spain', 'Canada']"
      ]
     },
     "execution_count": 273,
     "metadata": {},
     "output_type": "execute_result"
    }
   ],
   "source": [
    "for index, c in enumerate(countries):\n",
    "    if c == \"Belgium\" and index > 0:\n",
    "        countries.pop(index)\n",
    "\n",
    "countries\n"
   ]
  },
  {
   "cell_type": "code",
   "execution_count": 274,
   "metadata": {},
   "outputs": [
    {
     "data": {
      "text/plain": [
       "['Belgium', 'UK', 'US', 'France', 'Spain', 'Canada', 'Portugal']"
      ]
     },
     "execution_count": 274,
     "metadata": {},
     "output_type": "execute_result"
    }
   ],
   "source": [
    "countries.insert(len(countries),'Portugal')\n",
    "\n",
    "countries"
   ]
  },
  {
   "cell_type": "code",
   "execution_count": 275,
   "metadata": {},
   "outputs": [
    {
     "data": {
      "text/plain": [
       "[['Belgium', 'UK', 'US', 'France', 'Spain', 'Canada', 'Portugal'],\n",
       " ['Wales', 'Honk Kong', 'Italy']]"
      ]
     },
     "execution_count": 275,
     "metadata": {},
     "output_type": "execute_result"
    }
   ],
   "source": [
    "countries_2 = ['Wales', 'Honk Kong', 'Italy']\n",
    "\n",
    "nested_countries = [countries, countries_2]\n",
    "\n",
    "nested_countries\n"
   ]
  },
  {
   "cell_type": "code",
   "execution_count": 276,
   "metadata": {},
   "outputs": [
    {
     "data": {
      "text/plain": [
       "['Belgium',\n",
       " 'UK',\n",
       " 'US',\n",
       " 'France',\n",
       " 'Spain',\n",
       " 'Canada',\n",
       " 'Portugal',\n",
       " 'Wales',\n",
       " 'Honk Kong',\n",
       " 'Italy']"
      ]
     },
     "execution_count": 276,
     "metadata": {},
     "output_type": "execute_result"
    }
   ],
   "source": [
    "countries_3 = countries + countries_2\n",
    "\n",
    "countries_3"
   ]
  },
  {
   "cell_type": "code",
   "execution_count": 277,
   "metadata": {},
   "outputs": [],
   "source": [
    "countries_2.remove('Wales')"
   ]
  },
  {
   "cell_type": "code",
   "execution_count": 278,
   "metadata": {},
   "outputs": [
    {
     "data": {
      "text/plain": [
       "[10, 8, 5, 14, 2, 20, 9, 11, 15, 17, 4]"
      ]
     },
     "execution_count": 278,
     "metadata": {},
     "output_type": "execute_result"
    }
   ],
   "source": [
    "# sorting\n",
    "import random\n",
    "\n",
    "numbers = []\n",
    "\n",
    "while len(numbers) < 11:\n",
    "    y = random.randint(1,20)\n",
    "\n",
    "    if y not in numbers:\n",
    "        numbers.append(y)\n",
    "numbers\n",
    "\n"
   ]
  },
  {
   "cell_type": "code",
   "execution_count": 279,
   "metadata": {},
   "outputs": [
    {
     "data": {
      "text/plain": [
       "[2, 4, 5, 8, 9, 10, 11, 14, 15, 17, 20]"
      ]
     },
     "execution_count": 279,
     "metadata": {},
     "output_type": "execute_result"
    }
   ],
   "source": [
    "numbers.sort()\n",
    "\n",
    "numbers"
   ]
  },
  {
   "cell_type": "code",
   "execution_count": 280,
   "metadata": {},
   "outputs": [
    {
     "data": {
      "text/plain": [
       "[20, 17, 15, 14, 11, 10, 9, 8, 5, 4, 2]"
      ]
     },
     "execution_count": 280,
     "metadata": {},
     "output_type": "execute_result"
    }
   ],
   "source": [
    "numbers.sort(reverse=True)\n",
    "\n",
    "numbers"
   ]
  },
  {
   "cell_type": "code",
   "execution_count": 281,
   "metadata": {},
   "outputs": [],
   "source": [
    "#update element in a list\n",
    "\n",
    "numbers[0] = random.randint(16,20)"
   ]
  },
  {
   "cell_type": "code",
   "execution_count": 282,
   "metadata": {},
   "outputs": [
    {
     "data": {
      "text/plain": [
       "{1: 'K', 2: 'e', 3: 'v', 4: 'i', 5: 'n'}"
      ]
     },
     "execution_count": 282,
     "metadata": {},
     "output_type": "execute_result"
    }
   ],
   "source": [
    "#dictionary\n",
    "name = \"Kevin\"\n",
    "my_Dict = {name.find(x) +1:x for x in name} \n",
    "\n",
    "# find is not a good way to do this becauze if returns the first occurence\n",
    "\n",
    "name = \"Kevin\"\n",
    "\n",
    "my_Dict = {i+1:v for (i,v) in enumerate(name)}\n",
    "\n",
    "\n",
    "\n",
    "\n",
    "\n",
    "\n",
    "\n",
    "my_Dict"
   ]
  },
  {
   "cell_type": "code",
   "execution_count": 283,
   "metadata": {},
   "outputs": [
    {
     "data": {
      "text/plain": [
       "dict_keys([1, 2, 3, 4, 5])"
      ]
     },
     "execution_count": 283,
     "metadata": {},
     "output_type": "execute_result"
    }
   ],
   "source": [
    "keys = my_Dict.keys()\n",
    "\n",
    "keys "
   ]
  },
  {
   "cell_type": "code",
   "execution_count": 284,
   "metadata": {},
   "outputs": [
    {
     "data": {
      "text/plain": [
       "{1: 'K', 2: 'E', 3: 'V', 4: 'I', 5: 'N'}"
      ]
     },
     "execution_count": 284,
     "metadata": {},
     "output_type": "execute_result"
    }
   ],
   "source": [
    "for k in keys:\n",
    "    my_Dict.update({k:my_Dict[k].upper()})\n",
    "    \n",
    "my_Dict"
   ]
  },
  {
   "cell_type": "code",
   "execution_count": 285,
   "metadata": {},
   "outputs": [
    {
     "data": {
      "text/plain": [
       "dict_items([(1, 'K'), (2, 'E'), (3, 'V'), (4, 'I'), (5, 'N')])"
      ]
     },
     "execution_count": 285,
     "metadata": {},
     "output_type": "execute_result"
    }
   ],
   "source": [
    "# another ways to do the same thing\n",
    "my_Dict.items()"
   ]
  },
  {
   "cell_type": "code",
   "execution_count": 286,
   "metadata": {},
   "outputs": [
    {
     "data": {
      "text/plain": [
       "{1: 'k', 2: 'e', 3: 'v', 4: 'i', 5: 'n'}"
      ]
     },
     "execution_count": 286,
     "metadata": {},
     "output_type": "execute_result"
    }
   ],
   "source": [
    "for k,v in my_Dict.items():\n",
    "    my_Dict[k] = v.lower()\n",
    "\n",
    "my_Dict\n"
   ]
  },
  {
   "cell_type": "code",
   "execution_count": 287,
   "metadata": {},
   "outputs": [
    {
     "name": "stdout",
     "output_type": "stream",
     "text": [
      "6 :  \n",
      "7 : F\n",
      "8 : r\n",
      "9 : a\n",
      "10 : n\n",
      "11 : s\n",
      "12 : e\n",
      "13 : n\n"
     ]
    }
   ],
   "source": [
    "last_name = \" Fransen\"\n",
    "\n",
    "for i,c in enumerate(last_name):\n",
    "    index = (len(name) + (i+1))\n",
    "    my_Dict[index] = c\n",
    "    print(f\"{index} : {c}\")\n",
    "\n",
    "\n",
    "\n",
    "    \n"
   ]
  },
  {
   "cell_type": "code",
   "execution_count": 288,
   "metadata": {},
   "outputs": [
    {
     "data": {
      "text/plain": [
       "{1: 'k',\n",
       " 2: 'e',\n",
       " 3: 'v',\n",
       " 4: 'i',\n",
       " 5: 'n',\n",
       " 6: ' ',\n",
       " 7: 'F',\n",
       " 8: 'r',\n",
       " 9: 'a',\n",
       " 10: 'n',\n",
       " 11: 's',\n",
       " 12: 'e',\n",
       " 13: 'n'}"
      ]
     },
     "execution_count": 288,
     "metadata": {},
     "output_type": "execute_result"
    }
   ],
   "source": [
    "my_Dict"
   ]
  },
  {
   "cell_type": "code",
   "execution_count": 289,
   "metadata": {},
   "outputs": [
    {
     "data": {
      "text/plain": [
       "{1: 'k', 2: 'e', 3: 'v', 4: 'i', 5: 'n'}"
      ]
     },
     "execution_count": 289,
     "metadata": {},
     "output_type": "execute_result"
    }
   ],
   "source": [
    "my_Dict_3 = {key:value for key,value in my_Dict.items() if key in range(len(name)+1)}\n",
    "\n",
    "my_Dict_3 # using list comprehension "
   ]
  },
  {
   "cell_type": "code",
   "execution_count": 290,
   "metadata": {},
   "outputs": [
    {
     "name": "stdout",
     "output_type": "stream",
     "text": [
      "6\n",
      "7\n",
      "8\n",
      "9\n",
      "10\n",
      "11\n",
      "12\n",
      "13\n"
     ]
    }
   ],
   "source": [
    "import copy\n",
    "\n",
    "my_Dict2 = my_Dict.copy()\n",
    "\n",
    "for key, value in my_Dict2.items():\n",
    "    if value in last_name and key > len(name):\n",
    "        my_Dict.pop(key)\n",
    "        print(key)\n",
    "\n"
   ]
  },
  {
   "cell_type": "code",
   "execution_count": 291,
   "metadata": {},
   "outputs": [
    {
     "data": {
      "text/plain": [
       "{1: 'k', 2: 'e', 3: 'v', 4: 'i', 5: 'n'}"
      ]
     },
     "execution_count": 291,
     "metadata": {},
     "output_type": "execute_result"
    }
   ],
   "source": [
    "my_Dict"
   ]
  },
  
  {
   "cell_type": "code",
   "execution_count": 294,
   "metadata": {},
   "outputs": [
    {
     "data": {
      "text/plain": [
       "['0. Basics.ipynb']"
      ]
     },
     "execution_count": 294,
     "metadata": {},
     "output_type": "execute_result"
    }
   ],
   "source": [
    "os.listdir()\n"
   ]
  }
 ],
 "metadata": {
  "kernelspec": {
   "display_name": "Python 3",
   "language": "python",
   "name": "python3"
  },
  "language_info": {
   "codemirror_mode": {
    "name": "ipython",
    "version": 3
   },
   "file_extension": ".py",
   "mimetype": "text/x-python",
   "name": "python",
   "nbconvert_exporter": "python",
   "pygments_lexer": "ipython3",
   "version": "3.11.4"
  }
 },
 "nbformat": 4,
 "nbformat_minor": 2
}
